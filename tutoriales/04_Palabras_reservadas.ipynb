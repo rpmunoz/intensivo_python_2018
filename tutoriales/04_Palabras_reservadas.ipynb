{
 "cells": [
  {
   "cell_type": "markdown",
   "metadata": {},
   "source": [
    "# Palabras reservadas en Python\n",
    "\n",
    "Las palabras reservadas o keywords de Python son aquellos nombres que incorpora el lenguaje de programación y que no pueden ser reemplazados por un valor determinado o alterar su funcionamiento."
   ]
  },
  {
   "cell_type": "markdown",
   "metadata": {},
   "source": [
    "En Python 2 existen 31 palabras reservadas\n",
    "\n",
    "|   |   |   |   |\n",
    "| :-: | :-: | :-: | :-: |\n",
    "| and | as | assert | break |\n",
    "| class | continue | def | del |\n",
    "| elif | else | except | exec |\n",
    "| finally | for | from | global |\n",
    "| if | import | in | is |\n",
    "| lambda | not | or | pass |\n",
    "| print | raise | return | try |\n",
    "| while | with | yield | |\n",
    "\n",
    "En Python 3 las palabras `exec` y `print` fueron eliminadas, mientras que fueron incoporadas las palabras `nonlocal`, `True`, `False` y `None`. De esta manera, en Python 3 existe 33 palabras reservadas\n",
    "\n",
    "|   |   |   |   |\n",
    "| :-: | :-: | :-: | :-: |\n",
    "| and | as | assert | break |\n",
    "| class | continue | def | del |\n",
    "| elif | else | except | False |\n",
    "| finally | for | from | global |\n",
    "| if | import | in | is |\n",
    "| lambda | None | nonlocal | not |\n",
    "| or | pass | raise | return |\n",
    "| True | try | while | with |\n",
    "| yield |"
   ]
  },
  {
   "cell_type": "markdown",
   "metadata": {},
   "source": [
    "## 1. Uso del módulo keyword\n",
    "\n",
    "Se puede usar la función `kwlist` del módulo `keyword` para obtener la lista de palabras reservadas"
   ]
  },
  {
   "cell_type": "code",
   "execution_count": null,
   "metadata": {},
   "outputs": [],
   "source": [
    "import keyword\n",
    "\n",
    "keyword.kwlist"
   ]
  },
  {
   "cell_type": "markdown",
   "metadata": {},
   "source": [
    "Supongamos que queremos definir una variable de nombre None en nuestro código. Para verificar que no sea una palabra reservada, usamos la función `iskeyword`. Si la respuesta es True significa que la palabra es reservada del sistema."
   ]
  },
  {
   "cell_type": "code",
   "execution_count": null,
   "metadata": {},
   "outputs": [],
   "source": [
    "keyword.iskeyword('None')"
   ]
  },
  {
   "cell_type": "code",
   "execution_count": null,
   "metadata": {},
   "outputs": [],
   "source": [
    "keyword.iskeyword('dog')"
   ]
  },
  {
   "cell_type": "markdown",
   "metadata": {},
   "source": [
    "## 2. Ejemplos de palabras reservadas\n",
    "\n",
    "A continuación una lista de palabras reservadas usadas comúnmente en Python\n",
    "\n",
    "- **True / False** : Reprentaciones booleanas de Verdadero y Falso"
   ]
  },
  {
   "cell_type": "code",
   "execution_count": null,
   "metadata": {
    "collapsed": true
   },
   "outputs": [],
   "source": [
    "x=True\n",
    "y=False"
   ]
  },
  {
   "cell_type": "markdown",
   "metadata": {},
   "source": [
    "- **and / or** : Representaciones lógicas de \"y\" y \"o\", respectivamente "
   ]
  },
  {
   "cell_type": "code",
   "execution_count": null,
   "metadata": {},
   "outputs": [],
   "source": [
    "x= True and False\n",
    "print(x)"
   ]
  },
  {
   "cell_type": "code",
   "execution_count": null,
   "metadata": {},
   "outputs": [],
   "source": [
    "y= True or False\n",
    "print(y)"
   ]
  },
  {
   "cell_type": "markdown",
   "metadata": {},
   "source": [
    "- **None** : None es utilizado para indicar la ausencia de un valor en un objeto determinado."
   ]
  },
  {
   "cell_type": "code",
   "execution_count": null,
   "metadata": {},
   "outputs": [],
   "source": [
    "x= None\n",
    "print(x)\n",
    "print(type(x))"
   ]
  },
  {
   "cell_type": "code",
   "execution_count": null,
   "metadata": {},
   "outputs": [],
   "source": [
    "x+1"
   ]
  },
  {
   "cell_type": "markdown",
   "metadata": {},
   "source": [
    "- **assert** : Durante la depuración de un código `assert` permite especificar una expresión que lanzará `AssertionError` en caso de ser evaluada como falsa."
   ]
  },
  {
   "cell_type": "code",
   "execution_count": null,
   "metadata": {},
   "outputs": [],
   "source": [
    "assert 1 == 2"
   ]
  },
  {
   "cell_type": "code",
   "execution_count": null,
   "metadata": {
    "collapsed": true
   },
   "outputs": [],
   "source": [
    "assert 1 == 1"
   ]
  },
  {
   "cell_type": "markdown",
   "metadata": {},
   "source": [
    "- **try / except / else / finally**:\n",
    "\n",
    "Las cláusula try / except permite capturar una excepción dentro de una determinada porción de código."
   ]
  },
  {
   "cell_type": "code",
   "execution_count": null,
   "metadata": {},
   "outputs": [],
   "source": [
    "x=10\n",
    "y=0\n",
    "\n",
    "try:\n",
    "    result = x / y\n",
    "except ZeroDivisionError:\n",
    "    print(\"División por cero!\")"
   ]
  },
  {
   "cell_type": "markdown",
   "metadata": {},
   "source": [
    "En caso de no habrse propagado ninguna excepción, el flujo del programa seguirá luego del término `else` al finalizar la ejecución del bloque de código de `try`"
   ]
  },
  {
   "cell_type": "code",
   "execution_count": null,
   "metadata": {},
   "outputs": [],
   "source": [
    "x=10\n",
    "y=2\n",
    "\n",
    "try:\n",
    "    result = x / y\n",
    "except ZeroDivisionError:\n",
    "    print(\"División por cero!\")\n",
    "else:\n",
    "    print(\"Resultado de división entre \", x, \" y \", y, \" = \", result)"
   ]
  },
  {
   "cell_type": "markdown",
   "metadata": {},
   "source": [
    "Por último, el flujo será enviado luego del término finally al finalizar la ejecución del código anterior, independientemente si han surgido errores."
   ]
  },
  {
   "cell_type": "code",
   "execution_count": null,
   "metadata": {},
   "outputs": [],
   "source": [
    "x=10\n",
    "y=0\n",
    "\n",
    "try:\n",
    "    result = x / y\n",
    "except ZeroDivisionError:\n",
    "    print(\"División por cero!\")\n",
    "else:\n",
    "    print(\"Resultado de división entre \", x, \" y \", y, \" = \", result)\n",
    "finally:\n",
    "    print(\"La división ha finalizado\")"
   ]
  },
  {
   "cell_type": "markdown",
   "metadata": {},
   "source": [
    "- **with:** Permite encapsular la ejecución de un bloque de código, de modo que la inicialización y finalización de un objeto es realizada automáticamente por Python, utilizando las funciones `__enter__` y `__exit__`"
   ]
  },
  {
   "cell_type": "code",
   "execution_count": null,
   "metadata": {},
   "outputs": [],
   "source": [
    "with open(\"data/poema_15_Pablo_Neruda.txt\") as f:\n",
    "    for line in f:\n",
    "        print(line, end=\"\")"
   ]
  },
  {
   "cell_type": "code",
   "execution_count": null,
   "metadata": {
    "collapsed": true
   },
   "outputs": [],
   "source": []
  }
 ],
 "metadata": {
  "kernelspec": {
   "display_name": "Python 3",
   "language": "python",
   "name": "python3"
  },
  "language_info": {
   "codemirror_mode": {
    "name": "ipython",
    "version": 3
   },
   "file_extension": ".py",
   "mimetype": "text/x-python",
   "name": "python",
   "nbconvert_exporter": "python",
   "pygments_lexer": "ipython3",
   "version": "3.6.4"
  }
 },
 "nbformat": 4,
 "nbformat_minor": 2
}
