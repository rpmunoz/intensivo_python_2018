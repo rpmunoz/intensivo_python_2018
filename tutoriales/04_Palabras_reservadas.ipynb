{
 "cells": [
  {
   "cell_type": "markdown",
   "metadata": {},
   "source": [
    "# Palabras reservadas en Python\n",
    "\n",
    "Las palabras reservadas o keywords de Python son aquellos nombres que incorpora el lenguaje de programación y que no pueden ser reemplazados por un valor determinado o alterar su funcionamiento."
   ]
  },
  {
   "cell_type": "markdown",
   "metadata": {},
   "source": [
    "En Python 2 existen 31 palabras reservadas\n",
    "\n",
    "|   |   |   |   |\n",
    "| :-: | :-: | :-: | :-: |\n",
    "| and | as | assert | break |\n",
    "| class | continue | def | del |\n",
    "| elif | else | except | exec |\n",
    "| finally | for | from | global |\n",
    "| if | import | in | is |\n",
    "| lambda | not | or | pass |\n",
    "| print | raise | return | try |\n",
    "| while | with | yield | |\n",
    "\n",
    "En Python 3 las palabras `exec` y `print` fueron eliminadas, mientras que fueron incoporadas las palabras `nonlocal`, `True`, `False` y `None`. De esta manera, en Python 3 existe 33 palabras reservadas\n",
    "\n",
    "|   |   |   |   |\n",
    "| :-: | :-: | :-: | :-: |\n",
    "| and | as | assert | break |\n",
    "| class | continue | def | del |\n",
    "| elif | else | except | False |\n",
    "| finally | for | from | global |\n",
    "| if | import | in | is |\n",
    "| lambda | None | nonlocal | not |\n",
    "| or | pass | raise | return |\n",
    "| True | try | while | with |\n",
    "| yield |"
   ]
  },
  {
   "cell_type": "markdown",
   "metadata": {},
   "source": [
    "## 1. Uso del módulo keyword\n",
    "\n",
    "Se puede usar la función `kwlist` del módulo `keyword` para obtener la lista de palabras reservadas"
   ]
  },
  {
   "cell_type": "code",
   "execution_count": 2,
   "metadata": {},
   "outputs": [
    {
     "data": {
      "text/plain": [
       "['False',\n",
       " 'None',\n",
       " 'True',\n",
       " 'and',\n",
       " 'as',\n",
       " 'assert',\n",
       " 'break',\n",
       " 'class',\n",
       " 'continue',\n",
       " 'def',\n",
       " 'del',\n",
       " 'elif',\n",
       " 'else',\n",
       " 'except',\n",
       " 'finally',\n",
       " 'for',\n",
       " 'from',\n",
       " 'global',\n",
       " 'if',\n",
       " 'import',\n",
       " 'in',\n",
       " 'is',\n",
       " 'lambda',\n",
       " 'nonlocal',\n",
       " 'not',\n",
       " 'or',\n",
       " 'pass',\n",
       " 'raise',\n",
       " 'return',\n",
       " 'try',\n",
       " 'while',\n",
       " 'with',\n",
       " 'yield']"
      ]
     },
     "execution_count": 2,
     "metadata": {},
     "output_type": "execute_result"
    }
   ],
   "source": [
    "import keyword\n",
    "\n",
    "keyword.kwlist"
   ]
  },
  {
   "cell_type": "markdown",
   "metadata": {},
   "source": [
    "Supongamos que queremos definir una variable de nombre None en nuestro código. Para verificar que no sea una palabra reservada, usamos la función `iskeyword`. Si la respuesta es True significa que la palabra es reservada del sistema."
   ]
  },
  {
   "cell_type": "code",
   "execution_count": 3,
   "metadata": {},
   "outputs": [
    {
     "data": {
      "text/plain": [
       "True"
      ]
     },
     "execution_count": 3,
     "metadata": {},
     "output_type": "execute_result"
    }
   ],
   "source": [
    "keyword.iskeyword('None')"
   ]
  },
  {
   "cell_type": "code",
   "execution_count": 4,
   "metadata": {},
   "outputs": [
    {
     "data": {
      "text/plain": [
       "False"
      ]
     },
     "execution_count": 4,
     "metadata": {},
     "output_type": "execute_result"
    }
   ],
   "source": [
    "keyword.iskeyword('dog')"
   ]
  },
  {
   "cell_type": "markdown",
   "metadata": {},
   "source": [
    "## 2. Ejemplos de palabras reservadas\n",
    "\n",
    "A continuación una lista de palabras reservadas usadas comúnmente en Python\n",
    "\n",
    "- **True / False** : Reprentaciones booleanas de Verdadero y Falso"
   ]
  },
  {
   "cell_type": "code",
   "execution_count": 8,
   "metadata": {},
   "outputs": [],
   "source": [
    "x=True\n",
    "y=False"
   ]
  },
  {
   "cell_type": "markdown",
   "metadata": {},
   "source": [
    "- **and / or** : Representaciones lógicas de \"y\" y \"o\", respectivamente "
   ]
  },
  {
   "cell_type": "code",
   "execution_count": 6,
   "metadata": {},
   "outputs": [
    {
     "name": "stdout",
     "output_type": "stream",
     "text": [
      "False\n"
     ]
    }
   ],
   "source": [
    "x= True and False\n",
    "print(x)"
   ]
  },
  {
   "cell_type": "code",
   "execution_count": 7,
   "metadata": {},
   "outputs": [
    {
     "name": "stdout",
     "output_type": "stream",
     "text": [
      "True\n"
     ]
    }
   ],
   "source": [
    "y= True or False\n",
    "print(y)"
   ]
  },
  {
   "cell_type": "markdown",
   "metadata": {},
   "source": [
    "- **None** : None es utilizado para indicar la ausencia de un valor en un objeto determinado."
   ]
  },
  {
   "cell_type": "code",
   "execution_count": 29,
   "metadata": {},
   "outputs": [
    {
     "name": "stdout",
     "output_type": "stream",
     "text": [
      "None\n",
      "<class 'NoneType'>\n"
     ]
    }
   ],
   "source": [
    "x= None\n",
    "print(x)\n",
    "print(type(x))"
   ]
  },
  {
   "cell_type": "code",
   "execution_count": 30,
   "metadata": {},
   "outputs": [
    {
     "ename": "TypeError",
     "evalue": "unsupported operand type(s) for +: 'NoneType' and 'int'",
     "output_type": "error",
     "traceback": [
      "\u001b[0;31m---------------------------------------------------------------------------\u001b[0m",
      "\u001b[0;31mTypeError\u001b[0m                                 Traceback (most recent call last)",
      "\u001b[0;32m<ipython-input-30-da2b8556d113>\u001b[0m in \u001b[0;36m<module>\u001b[0;34m()\u001b[0m\n\u001b[0;32m----> 1\u001b[0;31m \u001b[0mx\u001b[0m\u001b[0;34m+\u001b[0m\u001b[0;36m1\u001b[0m\u001b[0;34m\u001b[0m\u001b[0m\n\u001b[0m",
      "\u001b[0;31mTypeError\u001b[0m: unsupported operand type(s) for +: 'NoneType' and 'int'"
     ]
    }
   ],
   "source": [
    "x+1"
   ]
  },
  {
   "cell_type": "markdown",
   "metadata": {},
   "source": [
    "- **assert** : Durante la depuración de un código `assert` permite especificar una expresión que lanzará `AssertionError` en caso de ser evaluada como falsa."
   ]
  },
  {
   "cell_type": "code",
   "execution_count": 15,
   "metadata": {},
   "outputs": [
    {
     "ename": "AssertionError",
     "evalue": "",
     "output_type": "error",
     "traceback": [
      "\u001b[0;31m---------------------------------------------------------------------------\u001b[0m",
      "\u001b[0;31mAssertionError\u001b[0m                            Traceback (most recent call last)",
      "\u001b[0;32m<ipython-input-15-ce781a32d075>\u001b[0m in \u001b[0;36m<module>\u001b[0;34m()\u001b[0m\n\u001b[0;32m----> 1\u001b[0;31m \u001b[0;32massert\u001b[0m \u001b[0;36m1\u001b[0m \u001b[0;34m==\u001b[0m \u001b[0;36m2\u001b[0m\u001b[0;34m\u001b[0m\u001b[0m\n\u001b[0m",
      "\u001b[0;31mAssertionError\u001b[0m: "
     ]
    }
   ],
   "source": [
    "assert 1 == 2"
   ]
  },
  {
   "cell_type": "code",
   "execution_count": 16,
   "metadata": {},
   "outputs": [],
   "source": [
    "assert 1 == 1"
   ]
  },
  {
   "cell_type": "markdown",
   "metadata": {},
   "source": [
    "- **try / except / else / finally**:\n",
    "\n",
    "Las cláusula try / except permite capturar una excepción dentro de una determinada porción de código."
   ]
  },
  {
   "cell_type": "code",
   "execution_count": 9,
   "metadata": {},
   "outputs": [
    {
     "name": "stdout",
     "output_type": "stream",
     "text": [
      "División por cero!\n"
     ]
    }
   ],
   "source": [
    "x=10\n",
    "y=0\n",
    "\n",
    "try:\n",
    "    result = x / y\n",
    "except ZeroDivisionError:\n",
    "    print(\"División por cero!\")"
   ]
  },
  {
   "cell_type": "markdown",
   "metadata": {},
   "source": [
    "En caso de no habrse propagado ninguna excepción, el flujo del programa seguirá luego del término `else` al finalizar la ejecución del bloque de código de `try`"
   ]
  },
  {
   "cell_type": "code",
   "execution_count": 10,
   "metadata": {},
   "outputs": [
    {
     "name": "stdout",
     "output_type": "stream",
     "text": [
      "Resultado de división entre  10  y  2  =  5.0\n"
     ]
    }
   ],
   "source": [
    "x=10\n",
    "y=2\n",
    "\n",
    "try:\n",
    "    result = x / y\n",
    "except ZeroDivisionError:\n",
    "    print(\"División por cero!\")\n",
    "else:\n",
    "    print(\"Resultado de división entre \", x, \" y \", y, \" = \", result)"
   ]
  },
  {
   "cell_type": "markdown",
   "metadata": {},
   "source": [
    "Por último, el flujo será enviado luego del término finally al finalizar la ejecución del código anterior, independientemente si han surgido errores."
   ]
  },
  {
   "cell_type": "code",
   "execution_count": 12,
   "metadata": {},
   "outputs": [
    {
     "name": "stdout",
     "output_type": "stream",
     "text": [
      "División por cero!\n",
      "La división ha finalizado\n"
     ]
    }
   ],
   "source": [
    "x=10\n",
    "y=0\n",
    "\n",
    "try:\n",
    "    result = x / y\n",
    "except ZeroDivisionError:\n",
    "    print(\"División por cero!\")\n",
    "else:\n",
    "    print(\"Resultado de división entre \", x, \" y \", y, \" = \", result)\n",
    "finally:\n",
    "    print(\"La división ha finalizado\")"
   ]
  },
  {
   "cell_type": "markdown",
   "metadata": {},
   "source": [
    "- **with:** Permite encapsular la ejecución de un bloque de código, de modo que la inicialización y finalización de un objeto es realizada automáticamente por Python, utilizando las funciones `__enter__` y `__exit__`"
   ]
  },
  {
   "cell_type": "code",
   "execution_count": 13,
   "metadata": {},
   "outputs": [
    {
     "name": "stdout",
     "output_type": "stream",
     "text": [
      "Me gustas cuando callas porque estás como ausente, \n",
      "y me oyes desde lejos, y mi voz no te toca. \n",
      "Parece que los ojos se te hubieran volado \n",
      "y parece que un beso te cerrara la boca. \n",
      "\n",
      "Como todas las cosas están llenas de mi alma \n",
      "emerges de las cosas, llena del alma mía. \n",
      "Mariposa de sueño, te pareces a mi alma, \n",
      "y te pareces a la palabra melancolía. \n",
      "\n",
      "Me gustas cuando callas y estás como distante. \n",
      "Y estás como quejándote, mariposa en arrullo. \n",
      "Y me oyes desde lejos, y mi voz no te alcanza: \n",
      "déjame que me calle con el silencio tuyo. \n",
      "\n",
      "Déjame que te hable también con tu silencio \n",
      "claro como una lámpara, simple como un anillo. \n",
      "Eres como la noche, callada y constelada. \n",
      "Tu silencio es de estrella, tan lejano y sencillo. \n",
      "\n",
      "Me gustas cuando callas porque estás como ausente. \n",
      "Distante y dolorosa como si hubieras muerto. \n",
      "Una palabra entonces, una sonrisa bastan. \n",
      "Y estoy alegre, alegre de que no sea cierto."
     ]
    }
   ],
   "source": [
    "with open(\"data/poema_15_Pablo_Neruda.txt\") as f:\n",
    "    for line in f:\n",
    "        print(line, end=\"\")"
   ]
  },
  {
   "cell_type": "code",
   "execution_count": null,
   "metadata": {},
   "outputs": [],
   "source": []
  }
 ],
 "metadata": {
  "kernelspec": {
   "display_name": "Python 3",
   "language": "python",
   "name": "python3"
  },
  "language_info": {
   "codemirror_mode": {
    "name": "ipython",
    "version": 3
   },
   "file_extension": ".py",
   "mimetype": "text/x-python",
   "name": "python",
   "nbconvert_exporter": "python",
   "pygments_lexer": "ipython3",
   "version": "3.6.3"
  }
 },
 "nbformat": 4,
 "nbformat_minor": 2
}
