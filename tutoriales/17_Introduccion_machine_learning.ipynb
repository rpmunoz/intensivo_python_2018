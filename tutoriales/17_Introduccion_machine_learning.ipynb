{
 "cells": [
  {
   "cell_type": "markdown",
   "metadata": {},
   "source": [
    "# Machine learning\n",
    "\n",
    "**Autor:** Roberto Muñoz <br />\n",
    "**E-mail:** <rmunoz@metricarts.com> <br />\n",
    "**Github:** <https://github.com/rpmunoz> <br />\n",
    "\n",
    "El machine learning o aprendizaje de máquinas es un campo de las Ciencias de la computación que permite construir sistemas artificiales que aprenden. En el contexto del análisis de datos se define como una serie de métodos que permiten construir modelos predictivos a partir del uso de datos y algoritmos.\n",
    "\n",
    "Se pueden identificar tres tipos de machine learning\n",
    "\n",
    "- **Aprendizaje supervisado**: Se genera una función que establece una correspondencia entre las entradas y las salidas deseadas del sistema, donde la base de conocimientos del sistema está formada por ejemplos etiquetados a priori (es decir, ejemplos de los que sabemos su clasificación correcta).\n",
    "\n",
    "\n",
    "- **Aprendizaje no supervisado**: Donde el proceso de modelado se lleva a cabo sobre un conjunto de ejemplos formados únicamente por entradas al sistema, sin conocer su clasificación correcta. Por lo que se busca que el sistema sea capaz de reconocer patrones para poder etiquetar las nuevas entradas.\n",
    "\n",
    "\n",
    "- **Aprendizaje reforzado**: En este caso el algoritmo aprende observando el mundo que le rodea y con un continuo flujo de información en las dos direcciones (del mundo a la máquina, y de la máquina al mundo) realizando un proceso de ensayo-error, y reforzando aquellas acciones que reciben una respuesta positiva en el mundo.\n",
    "\n",
    "\n",
    "<img src=\"images/ml_types.png\" width=\"600\">"
   ]
  },
  {
   "cell_type": "markdown",
   "metadata": {},
   "source": [
    "## 1. Aprendizaje supervisado\n",
    "\n",
    "En el aprendizaje supervisado se cuenta con un conjunto de ejemplos de los cuáles conocemos la respuesta. Lo que deseamos es formular algún tipo de regla o correspondencia que nos permita dar la respuesta para todos los objetos que se nos presenten.\n",
    "\n",
    "Por ejemplo, podemos contar con información de casas (conjunto de ejemplos), y los precios correspondientes de cada una (respuesta). A partir de esto, queremos aprender alguna regla de correspondencia entre casas y sus precios, que nos permita predecir el costo cuando tengamos información de nuevas casas.\n",
    "\n",
    "En general, la mayoría de los modelos que se construyen para entender un fenómeno se basan en el uso estadística. En estadística la modelación del fenómeno es muy relevante.\n",
    "\n",
    "<img src=\"images/ml_statistics.png\" width=\"300\">\n",
    "\n",
    "En el caso de machine learning se busca construir un modelo que permita reproducir los pares de valores de entrada y salida.\n",
    "\n",
    "<img src=\"images/ml_supervised_blackbox.png\" width=\"300\">\n",
    "\n",
    "A continuación se muestra un esquema del funcionamiento del aprendizaje supervisado\n",
    "\n",
    "<img src=\"images/ml_supervised_learning.png\" width=\"600\">\n",
    "\n",
    "## 1.1 Clasificación para predecir categorías\n",
    "\n",
    "Intentan predecir la clasificación de objetos sobre un conjunto de clases prefijadas. Por ejemplo, clasificar si una determinada noticia es de deportes, entretenimiento, política, etc. Si solo se permiten 2 posibles clases, entonces se llama clasificación binaria; si se permiten más de 2 clases, estamos hablando de clasificación multiclase.\n",
    "\n",
    "<img src=\"images/ml_classification.png\" width=\"300\">\n",
    "\n",
    "## 1.2 Regresión para predecir variables continuas\n",
    "\n",
    "Intentan predecir un valor real. Por ejemplo, predecir el valor de la bolsa mañana a partir del comportamiento de la bolsa que está almacenado (pasado). O predecir la nota de un alumno en el examen final basándose en las notas obtenidas en las diversas tareas realizadas durante el curso.\n",
    "\n",
    "<img src=\"images/ml_regression.png\" width=\"300\">\n"
   ]
  },
  {
   "cell_type": "code",
   "execution_count": null,
   "metadata": {
    "collapsed": true
   },
   "outputs": [],
   "source": []
  }
 ],
 "metadata": {
  "kernelspec": {
   "display_name": "Python 3",
   "language": "python",
   "name": "python3"
  },
  "language_info": {
   "codemirror_mode": {
    "name": "ipython",
    "version": 3
   },
   "file_extension": ".py",
   "mimetype": "text/x-python",
   "name": "python",
   "nbconvert_exporter": "python",
   "pygments_lexer": "ipython3",
   "version": "3.6.4"
  }
 },
 "nbformat": 4,
 "nbformat_minor": 2
}
