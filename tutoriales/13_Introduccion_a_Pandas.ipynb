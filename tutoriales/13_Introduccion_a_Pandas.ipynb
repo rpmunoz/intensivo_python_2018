{
 "cells": [
  {
   "cell_type": "markdown",
   "metadata": {},
   "source": [
    "# Introducción a Pandas\n",
    "\n",
    "**Autor:** Roberto Muñoz <br />\n",
    "**E-mail:** <rmunoz@metricarts.com> <br />\n",
    "**Github:** <https://github.com/rpmunoz> <br />\n",
    "\n",
    "[Pandas](http://pandas.pydata.org/) es un paquete de Python que proporciona estructuras de datos similares a los dataframes de R. Pandas depende de Numpy, la librería que añade un potente tipo matricial a Python. Los principales tipos de datos que pueden representarse con pandas son:\n",
    "\n",
    "- Datos tabulares con columnas de tipo heterogéneo con etiquetas en columnas y filas.\n",
    "- Series temporales.\n",
    "\n",
    "Pandas proporciona herramientas que permiten:\n",
    "\n",
    "- leer y escribir datos en diferentes formatos: CSV, Microsoft Excel, bases SQL y formato HDF5\n",
    "- seleccionar y filtrar de manera sencilla tablas de datos en función de posición, valor o etiquetas\n",
    "- fusionar y unir datos\n",
    "- transformar datos aplicando funciones tanto en global como por ventanas\n",
    "- manipulación de series temporales\n",
    "- hacer gráficas\n",
    "\n",
    "En pandas existen tres tipos básicos de objetos todos ellos basados a su vez en Numpy:\n",
    "\n",
    "- Series (listas, 1D),\n",
    "- DataFrame (tablas, 2D) y\n",
    "- Panels (tablas 3D)."
   ]
  },
  {
   "cell_type": "code",
   "execution_count": 1,
   "metadata": {},
   "outputs": [
    {
     "data": {
      "text/plain": [
       "'0.21.1'"
      ]
     },
     "execution_count": 1,
     "metadata": {},
     "output_type": "execute_result"
    }
   ],
   "source": [
    "import numpy as np\n",
    "import pandas as pd\n",
    "pd.__version__"
   ]
  },
  {
   "cell_type": "markdown",
   "metadata": {},
   "source": [
    "## 1.  Series\n",
    "\n",
    "Una serie (o *Series*) Pandas es un arreglo unidimensional de datos indexados. Puede ser creado desde una lista o arreglo como sigue:"
   ]
  },
  {
   "cell_type": "code",
   "execution_count": 2,
   "metadata": {},
   "outputs": [
    {
     "data": {
      "text/plain": [
       "0    0.25\n",
       "1    0.50\n",
       "2    0.75\n",
       "3    1.00\n",
       "dtype: float64"
      ]
     },
     "execution_count": 2,
     "metadata": {},
     "output_type": "execute_result"
    }
   ],
   "source": [
    "data = pd.Series([0.25, 0.5, 0.75, 1.0])\n",
    "data"
   ]
  },
  {
   "cell_type": "markdown",
   "metadata": {},
   "source": [
    "Como vemos en la salida, la Serie contiene una secuencia de valores y una secuencia de índices, las cuales podemos acceder con los atributos `values` y `index`. Los valores son simplemente un familiar arreglo NumPy:"
   ]
  },
  {
   "cell_type": "code",
   "execution_count": 3,
   "metadata": {},
   "outputs": [
    {
     "data": {
      "text/plain": [
       "array([ 0.25,  0.5 ,  0.75,  1.  ])"
      ]
     },
     "execution_count": 3,
     "metadata": {},
     "output_type": "execute_result"
    }
   ],
   "source": [
    "data.values"
   ]
  },
  {
   "cell_type": "markdown",
   "metadata": {},
   "source": [
    "El índice es un objeto tipo arreglo, con su nombre de tipo igual a `pd.Index`, el que discutiremos en más detalle."
   ]
  },
  {
   "cell_type": "code",
   "execution_count": 4,
   "metadata": {},
   "outputs": [
    {
     "data": {
      "text/plain": [
       "RangeIndex(start=0, stop=4, step=1)"
      ]
     },
     "execution_count": 4,
     "metadata": {},
     "output_type": "execute_result"
    }
   ],
   "source": [
    "data.index"
   ]
  },
  {
   "cell_type": "markdown",
   "metadata": {},
   "source": [
    "Al igual que con un arreglo NumPy, los datos pueden ser accedidos por el índice asociado, a través de la notación de brackets o paréntesis cuadrados:"
   ]
  },
  {
   "cell_type": "code",
   "execution_count": 5,
   "metadata": {},
   "outputs": [
    {
     "data": {
      "text/plain": [
       "0.5"
      ]
     },
     "execution_count": 5,
     "metadata": {},
     "output_type": "execute_result"
    }
   ],
   "source": [
    "data[1]"
   ]
  },
  {
   "cell_type": "markdown",
   "metadata": {},
   "source": [
    "### Series como un arreglo NumPy generalizado"
   ]
  },
  {
   "cell_type": "markdown",
   "metadata": {},
   "source": [
    "De lo que hemos visto hasta ahora, puede parecer que el objeto `Series` es básicamente intercambiable con un arreglo unidimensional NumPy. **La diferencia esencial es la presencia del índice**: mientras que el arreglo NumPy tiene un índice entero implícitamente definido, usado para acceder a los valores, la serie Pandas tiene un índice explícitamente definido con los valores."
   ]
  },
  {
   "cell_type": "code",
   "execution_count": 6,
   "metadata": {},
   "outputs": [
    {
     "data": {
      "text/plain": [
       "a    0.25\n",
       "b    0.50\n",
       "c    0.75\n",
       "d    1.00\n",
       "dtype: float64"
      ]
     },
     "execution_count": 6,
     "metadata": {},
     "output_type": "execute_result"
    }
   ],
   "source": [
    "data = pd.Series([0.25, 0.5, 0.75, 1.0],\n",
    "                 index=['a', 'b', 'c', 'd'])\n",
    "data"
   ]
  },
  {
   "cell_type": "markdown",
   "metadata": {},
   "source": [
    "Y el acceso a los ítemes funciona como es esperado:"
   ]
  },
  {
   "cell_type": "code",
   "execution_count": 7,
   "metadata": {},
   "outputs": [
    {
     "data": {
      "text/plain": [
       "0.5"
      ]
     },
     "execution_count": 7,
     "metadata": {},
     "output_type": "execute_result"
    }
   ],
   "source": [
    "data['b']"
   ]
  },
  {
   "cell_type": "markdown",
   "metadata": {},
   "source": [
    "### Series como diccionario especializado\n",
    "\n",
    "In this way, you can think of a Pandas Series a bit like a specialization of a Python dictionary. A dictionary is a structure that maps arbitrary keys to a set of arbitrary values, and a Series is a structure which maps typed keys to a set of typed values. This typing is important: just as the type-specific compiled code behind a NumPy array makes it more efficient than a Python list for certain operations, the type information of a Pandas Series makes it much more efficient than Python dictionaries for certain operations.\n",
    "\n",
    "De esta manera, se puede pensar en una `Series`Pandas un poco como una especialización de un diccionario Python. Un diccionario es una estructira que mapea llaves arbitrarias a un conjunto de valores arbitrarios, y una serie es una estructura que mapea llaves tipadas a un conjunto de valores tipados. Este tipado (la exigencia de un tipo definido de dato) es importante: así como el código específico de tipos compilado detrás de un arreglo Numpy lo hace más eficiente que una lista Python para ciertas operaciones, la información de tipo de datos de una serie Pandas la hace mucho más eficiente que los diccionarios Python para ciertas operaciones."
   ]
  },
  {
   "cell_type": "code",
   "execution_count": 8,
   "metadata": {},
   "outputs": [
    {
     "data": {
      "text/plain": [
       "Antofagasta                        631875\n",
       "Arica y Parinacota                 243149\n",
       "Bíobío                            2127902\n",
       "Magallanes y Antártica Chilena     165547\n",
       "Metropolitana de Santiago         7399042\n",
       "Valparaiso                        1842880\n",
       "dtype: int64"
      ]
     },
     "execution_count": 8,
     "metadata": {},
     "output_type": "execute_result"
    }
   ],
   "source": [
    "population_dict = {'Arica y Parinacota': 243149,\n",
    "                   'Antofagasta': 631875,\n",
    "                   'Metropolitana de Santiago': 7399042,\n",
    "                   'Valparaiso': 1842880,\n",
    "                   'Bíobío': 2127902,\n",
    "                   'Magallanes y Antártica Chilena': 165547}\n",
    "population = pd.Series(population_dict)\n",
    "population"
   ]
  },
  {
   "cell_type": "markdown",
   "metadata": {},
   "source": [
    "You can notice the indexes were sorted lexicographically. That's the default behaviour in Pandas"
   ]
  },
  {
   "cell_type": "code",
   "execution_count": 9,
   "metadata": {},
   "outputs": [
    {
     "data": {
      "text/plain": [
       "243149"
      ]
     },
     "execution_count": 9,
     "metadata": {},
     "output_type": "execute_result"
    }
   ],
   "source": [
    "population['Arica y Parinacota']"
   ]
  },
  {
   "cell_type": "markdown",
   "metadata": {},
   "source": [
    "Unlike a dictionary, though, the Series also supports array-style operations such as slicing:"
   ]
  },
  {
   "cell_type": "code",
   "execution_count": 10,
   "metadata": {},
   "outputs": [
    {
     "data": {
      "text/plain": [
       "Metropolitana de Santiago    7399042\n",
       "Valparaiso                   1842880\n",
       "dtype: int64"
      ]
     },
     "execution_count": 10,
     "metadata": {},
     "output_type": "execute_result"
    }
   ],
   "source": [
    "population['Metropolitana':'Valparaíso']"
   ]
  },
  {
   "cell_type": "markdown",
   "metadata": {},
   "source": [
    "## 2. DataFrame\n",
    "\n",
    "La siguiente estructura fundamental en Pandas es el **`DataFrame`**. Como el objeto `Series` discutido en la sección anterior, el `DataFrame` puede pensarse ya sea como una generalización del arreglo NumPy, o como una especialización de un diccionario Python. Lo miraremos desde ambas perspectivas."
   ]
  },
  {
   "cell_type": "markdown",
   "metadata": {},
   "source": [
    "### DataFrame como un arreglo NumPy generalizado\n",
    "\n",
    "Si una `Series` es el análogo de un arreglo unidimensional con índices flexibles, un `DataFrame` es el análogo de un arreglo bidimensional con índices de fila flexible y nombres de columna flexibles."
   ]
  },
  {
   "cell_type": "code",
   "execution_count": 11,
   "metadata": {},
   "outputs": [
    {
     "data": {
      "text/plain": [
       "Antofagasta                        126049.1\n",
       "Arica y Parinacota                  16873.3\n",
       "Bíobío                              37068.7\n",
       "Magallanes y Antártica Chilena    1382291.1\n",
       "Metropolitana de Santiago           15403.2\n",
       "Valparaiso                          16396.1\n",
       "dtype: float64"
      ]
     },
     "execution_count": 11,
     "metadata": {},
     "output_type": "execute_result"
    }
   ],
   "source": [
    "# Area in km^2\n",
    "area_dict = {'Arica y Parinacota': 16873.3,\n",
    "             'Antofagasta': 126049.1,\n",
    "             'Metropolitana de Santiago': 15403.2,\n",
    "             'Valparaiso': 16396.1,\n",
    "             'Bíobío': 37068.7,\n",
    "             'Magallanes y Antártica Chilena': 1382291.1}\n",
    "area = pd.Series(area_dict)\n",
    "area"
   ]
  },
  {
   "cell_type": "markdown",
   "metadata": {},
   "source": [
    "Ahora que tenemos esto junto con la serie de población de antes, podemos utilizar un diccionario para construir un único objeto bidimensional que contenga esta información:"
   ]
  },
  {
   "cell_type": "code",
   "execution_count": 12,
   "metadata": {},
   "outputs": [
    {
     "data": {
      "text/html": [
       "<div>\n",
       "<style scoped>\n",
       "    .dataframe tbody tr th:only-of-type {\n",
       "        vertical-align: middle;\n",
       "    }\n",
       "\n",
       "    .dataframe tbody tr th {\n",
       "        vertical-align: top;\n",
       "    }\n",
       "\n",
       "    .dataframe thead th {\n",
       "        text-align: right;\n",
       "    }\n",
       "</style>\n",
       "<table border=\"1\" class=\"dataframe\">\n",
       "  <thead>\n",
       "    <tr style=\"text-align: right;\">\n",
       "      <th></th>\n",
       "      <th>area</th>\n",
       "      <th>population</th>\n",
       "    </tr>\n",
       "  </thead>\n",
       "  <tbody>\n",
       "    <tr>\n",
       "      <th>Antofagasta</th>\n",
       "      <td>126049.1</td>\n",
       "      <td>631875</td>\n",
       "    </tr>\n",
       "    <tr>\n",
       "      <th>Arica y Parinacota</th>\n",
       "      <td>16873.3</td>\n",
       "      <td>243149</td>\n",
       "    </tr>\n",
       "    <tr>\n",
       "      <th>Bíobío</th>\n",
       "      <td>37068.7</td>\n",
       "      <td>2127902</td>\n",
       "    </tr>\n",
       "    <tr>\n",
       "      <th>Magallanes y Antártica Chilena</th>\n",
       "      <td>1382291.1</td>\n",
       "      <td>165547</td>\n",
       "    </tr>\n",
       "    <tr>\n",
       "      <th>Metropolitana de Santiago</th>\n",
       "      <td>15403.2</td>\n",
       "      <td>7399042</td>\n",
       "    </tr>\n",
       "    <tr>\n",
       "      <th>Valparaiso</th>\n",
       "      <td>16396.1</td>\n",
       "      <td>1842880</td>\n",
       "    </tr>\n",
       "  </tbody>\n",
       "</table>\n",
       "</div>"
      ],
      "text/plain": [
       "                                     area  population\n",
       "Antofagasta                      126049.1      631875\n",
       "Arica y Parinacota                16873.3      243149\n",
       "Bíobío                            37068.7     2127902\n",
       "Magallanes y Antártica Chilena  1382291.1      165547\n",
       "Metropolitana de Santiago         15403.2     7399042\n",
       "Valparaiso                        16396.1     1842880"
      ]
     },
     "execution_count": 12,
     "metadata": {},
     "output_type": "execute_result"
    }
   ],
   "source": [
    "regions = pd.DataFrame({'population': population,\n",
    "                       'area': area})\n",
    "regions"
   ]
  },
  {
   "cell_type": "code",
   "execution_count": 13,
   "metadata": {},
   "outputs": [
    {
     "data": {
      "text/plain": [
       "Index(['Antofagasta', 'Arica y Parinacota', 'Bíobío',\n",
       "       'Magallanes y Antártica Chilena', 'Metropolitana de Santiago',\n",
       "       'Valparaiso'],\n",
       "      dtype='object')"
      ]
     },
     "execution_count": 13,
     "metadata": {},
     "output_type": "execute_result"
    }
   ],
   "source": [
    "regions.index"
   ]
  },
  {
   "cell_type": "code",
   "execution_count": 14,
   "metadata": {},
   "outputs": [
    {
     "data": {
      "text/plain": [
       "Index(['area', 'population'], dtype='object')"
      ]
     },
     "execution_count": 14,
     "metadata": {},
     "output_type": "execute_result"
    }
   ],
   "source": [
    "regions.columns"
   ]
  },
  {
   "cell_type": "markdown",
   "metadata": {},
   "source": [
    "### DataFrame como diccionario especializado\n",
    "\n",
    "Similarmente, podemos pensar el `DataFrame` como la especialización de un diccionario. Donde un diccionario mapea una llave a un valor, un `DataFrame` mapea un nombre de columna a una serie de datos de columna. Por ejemplo, preguntar por el atributo 'área' retorna el objeto Serie conteniendo las áreas que vimos antes:"
   ]
  },
  {
   "cell_type": "code",
   "execution_count": 15,
   "metadata": {},
   "outputs": [
    {
     "data": {
      "text/plain": [
       "Antofagasta                        126049.1\n",
       "Arica y Parinacota                  16873.3\n",
       "Bíobío                              37068.7\n",
       "Magallanes y Antártica Chilena    1382291.1\n",
       "Metropolitana de Santiago           15403.2\n",
       "Valparaiso                          16396.1\n",
       "Name: area, dtype: float64"
      ]
     },
     "execution_count": 15,
     "metadata": {},
     "output_type": "execute_result"
    }
   ],
   "source": [
    "regions['area']"
   ]
  },
  {
   "cell_type": "markdown",
   "metadata": {},
   "source": [
    "### Construyendo objetos DataFrame\n",
    "Un `DataFrame` Pandas puede ser construido de una variedad de formas. Veremos algunos ejemplos."
   ]
  },
  {
   "cell_type": "markdown",
   "metadata": {},
   "source": [
    "### Desde un único objeto `Series`\n",
    "Un `DataFrame` es una colección de objetos `Series`, y un `DataFrame` de una sóla columna puede ser construido de una serie individual:"
   ]
  },
  {
   "cell_type": "code",
   "execution_count": 16,
   "metadata": {},
   "outputs": [
    {
     "data": {
      "text/html": [
       "<div>\n",
       "<style scoped>\n",
       "    .dataframe tbody tr th:only-of-type {\n",
       "        vertical-align: middle;\n",
       "    }\n",
       "\n",
       "    .dataframe tbody tr th {\n",
       "        vertical-align: top;\n",
       "    }\n",
       "\n",
       "    .dataframe thead th {\n",
       "        text-align: right;\n",
       "    }\n",
       "</style>\n",
       "<table border=\"1\" class=\"dataframe\">\n",
       "  <thead>\n",
       "    <tr style=\"text-align: right;\">\n",
       "      <th></th>\n",
       "      <th>poblacion</th>\n",
       "    </tr>\n",
       "  </thead>\n",
       "  <tbody>\n",
       "    <tr>\n",
       "      <th>Antofagasta</th>\n",
       "      <td>631875</td>\n",
       "    </tr>\n",
       "    <tr>\n",
       "      <th>Arica y Parinacota</th>\n",
       "      <td>243149</td>\n",
       "    </tr>\n",
       "    <tr>\n",
       "      <th>Bíobío</th>\n",
       "      <td>2127902</td>\n",
       "    </tr>\n",
       "    <tr>\n",
       "      <th>Magallanes y Antártica Chilena</th>\n",
       "      <td>165547</td>\n",
       "    </tr>\n",
       "    <tr>\n",
       "      <th>Metropolitana de Santiago</th>\n",
       "      <td>7399042</td>\n",
       "    </tr>\n",
       "    <tr>\n",
       "      <th>Valparaiso</th>\n",
       "      <td>1842880</td>\n",
       "    </tr>\n",
       "  </tbody>\n",
       "</table>\n",
       "</div>"
      ],
      "text/plain": [
       "                                poblacion\n",
       "Antofagasta                        631875\n",
       "Arica y Parinacota                 243149\n",
       "Bíobío                            2127902\n",
       "Magallanes y Antártica Chilena     165547\n",
       "Metropolitana de Santiago         7399042\n",
       "Valparaiso                        1842880"
      ]
     },
     "execution_count": 16,
     "metadata": {},
     "output_type": "execute_result"
    }
   ],
   "source": [
    "pd.DataFrame(population, columns=['poblacion'])"
   ]
  },
  {
   "cell_type": "markdown",
   "metadata": {},
   "source": [
    "### Desde un diccionario de objetos `Series`\n",
    "Como vimos antes, un `DataFrame` puede ser construido a partir de un diccionario de objetos `Series` también:"
   ]
  },
  {
   "cell_type": "code",
   "execution_count": 17,
   "metadata": {},
   "outputs": [
    {
     "data": {
      "text/html": [
       "<div>\n",
       "<style scoped>\n",
       "    .dataframe tbody tr th:only-of-type {\n",
       "        vertical-align: middle;\n",
       "    }\n",
       "\n",
       "    .dataframe tbody tr th {\n",
       "        vertical-align: top;\n",
       "    }\n",
       "\n",
       "    .dataframe thead th {\n",
       "        text-align: right;\n",
       "    }\n",
       "</style>\n",
       "<table border=\"1\" class=\"dataframe\">\n",
       "  <thead>\n",
       "    <tr style=\"text-align: right;\">\n",
       "      <th></th>\n",
       "      <th>poblacion</th>\n",
       "      <th>area</th>\n",
       "    </tr>\n",
       "  </thead>\n",
       "  <tbody>\n",
       "    <tr>\n",
       "      <th>Antofagasta</th>\n",
       "      <td>631875</td>\n",
       "      <td>126049.1</td>\n",
       "    </tr>\n",
       "    <tr>\n",
       "      <th>Arica y Parinacota</th>\n",
       "      <td>243149</td>\n",
       "      <td>16873.3</td>\n",
       "    </tr>\n",
       "    <tr>\n",
       "      <th>Bíobío</th>\n",
       "      <td>2127902</td>\n",
       "      <td>37068.7</td>\n",
       "    </tr>\n",
       "    <tr>\n",
       "      <th>Magallanes y Antártica Chilena</th>\n",
       "      <td>165547</td>\n",
       "      <td>1382291.1</td>\n",
       "    </tr>\n",
       "    <tr>\n",
       "      <th>Metropolitana de Santiago</th>\n",
       "      <td>7399042</td>\n",
       "      <td>15403.2</td>\n",
       "    </tr>\n",
       "    <tr>\n",
       "      <th>Valparaiso</th>\n",
       "      <td>1842880</td>\n",
       "      <td>16396.1</td>\n",
       "    </tr>\n",
       "  </tbody>\n",
       "</table>\n",
       "</div>"
      ],
      "text/plain": [
       "                                poblacion       area\n",
       "Antofagasta                        631875   126049.1\n",
       "Arica y Parinacota                 243149    16873.3\n",
       "Bíobío                            2127902    37068.7\n",
       "Magallanes y Antártica Chilena     165547  1382291.1\n",
       "Metropolitana de Santiago         7399042    15403.2\n",
       "Valparaiso                        1842880    16396.1"
      ]
     },
     "execution_count": 17,
     "metadata": {},
     "output_type": "execute_result"
    }
   ],
   "source": [
    "pd.DataFrame({'poblacion': population,\n",
    "              'area': area}, columns=['poblacion', 'area'])"
   ]
  },
  {
   "cell_type": "markdown",
   "metadata": {
    "collapsed": true
   },
   "source": [
    "## 3. Leyendo un archivo CSV y haciendo operaciones comunes Pandas"
   ]
  },
  {
   "cell_type": "code",
   "execution_count": null,
   "metadata": {
    "collapsed": true
   },
   "outputs": [],
   "source": [
    "regiones_file='data/chile_regiones.csv'\n",
    "provincias_file='data/chile_provincias.csv'\n",
    "comunas_file='data/chile_comunas.csv'\n",
    "\n",
    "regiones=pd.read_csv(regiones_file, header=0, sep=',')\n",
    "\n",
    "provincias=pd.read_csv(provincias_file, header=0, sep=',')\n",
    "comunas=pd.read_csv(comunas_file, header=0, sep=',')"
   ]
  },
  {
   "cell_type": "code",
   "execution_count": null,
   "metadata": {
    "collapsed": true
   },
   "outputs": [],
   "source": [
    "print('regiones table: ', regiones.columns.values.tolist())\n",
    "print('provincias table: ', provincias.columns.values.tolist())\n",
    "print('comunas table: ', comunas.columns.values.tolist())"
   ]
  },
  {
   "cell_type": "code",
   "execution_count": null,
   "metadata": {
    "collapsed": true
   },
   "outputs": [],
   "source": [
    "regiones.head()"
   ]
  },
  {
   "cell_type": "code",
   "execution_count": null,
   "metadata": {
    "collapsed": true
   },
   "outputs": [],
   "source": [
    "provincias.head()"
   ]
  },
  {
   "cell_type": "code",
   "execution_count": null,
   "metadata": {
    "collapsed": true
   },
   "outputs": [],
   "source": [
    "comunas.describe()"
   ]
  },
  {
   "cell_type": "code",
   "execution_count": null,
   "metadata": {
    "collapsed": true
   },
   "outputs": [],
   "source": [
    "regiones_provincias=pd.merge(regiones, provincias, how='outer')\n",
    "regiones_provincias.head()"
   ]
  },
  {
   "cell_type": "code",
   "execution_count": null,
   "metadata": {
    "collapsed": true
   },
   "outputs": [],
   "source": [
    "provincias_comunas=pd.merge(provincias, comunas, how='outer')\n",
    "provincias_comunas.head()"
   ]
  },
  {
   "cell_type": "code",
   "execution_count": null,
   "metadata": {
    "collapsed": true
   },
   "outputs": [],
   "source": [
    "regiones_provincias_comunas=pd.merge(regiones_provincias, comunas, how='outer')\n",
    "regiones_provincias_comunas.index.name='ID'\n",
    "regiones_provincias_comunas.head()"
   ]
  },
  {
   "cell_type": "code",
   "execution_count": null,
   "metadata": {
    "collapsed": true
   },
   "outputs": [],
   "source": [
    "regiones_provincias_comunas.to_csv('data/chile_demographic_merge.csv', index=False)"
   ]
  },
  {
   "cell_type": "code",
   "execution_count": null,
   "metadata": {
    "collapsed": true
   },
   "outputs": [],
   "source": [
    "regiones_provincias_comunas.loc[3]"
   ]
  },
  {
   "cell_type": "markdown",
   "metadata": {},
   "source": [
    "## 4. Loading ful dataset"
   ]
  },
  {
   "cell_type": "code",
   "execution_count": null,
   "metadata": {
    "collapsed": true
   },
   "outputs": [],
   "source": [
    "data_file='data/chile_demographic.csv'\n",
    "data=pd.read_csv(data_file, header=0, sep=',')\n",
    "data.head()"
   ]
  },
  {
   "cell_type": "code",
   "execution_count": null,
   "metadata": {
    "collapsed": true,
    "scrolled": true
   },
   "outputs": [],
   "source": [
    "# Podemos ordenar el dataframe usando el campo Poblacion\n",
    "\n",
    "data_sort=data.sort_values('Poblacion')\n",
    "data_sort.head()"
   ]
  },
  {
   "cell_type": "code",
   "execution_count": null,
   "metadata": {
    "collapsed": true,
    "scrolled": true
   },
   "outputs": [],
   "source": [
    "# Podemos ordenarlo de mayor a menor\n",
    "\n",
    "data_sort=data.sort_values('Poblacion', ascending=False)\n",
    "data_sort.head()"
   ]
  },
  {
   "cell_type": "code",
   "execution_count": null,
   "metadata": {
    "collapsed": true
   },
   "outputs": [],
   "source": [
    "(data.groupby(data['Region'])['Poblacion','Superficie'].sum())"
   ]
  },
  {
   "cell_type": "code",
   "execution_count": null,
   "metadata": {
    "collapsed": true,
    "scrolled": false
   },
   "outputs": [],
   "source": [
    "x=data.groupby(data['Region'])\n",
    "x['Poblacion','Superficie'].sum()"
   ]
  },
  {
   "cell_type": "code",
   "execution_count": null,
   "metadata": {
    "collapsed": true
   },
   "outputs": [],
   "source": [
    "(data.groupby(data['Region'])['Poblacion','Superficie'].sum()) \\\n",
    "    .sort_values(['Poblacion'])"
   ]
  },
  {
   "cell_type": "code",
   "execution_count": null,
   "metadata": {
    "collapsed": true
   },
   "outputs": [],
   "source": []
  },
  {
   "cell_type": "code",
   "execution_count": null,
   "metadata": {
    "collapsed": true
   },
   "outputs": [],
   "source": []
  }
 ],
 "metadata": {
  "kernelspec": {
   "display_name": "Python 3",
   "language": "python",
   "name": "python3"
  },
  "language_info": {
   "codemirror_mode": {
    "name": "ipython",
    "version": 3
   },
   "file_extension": ".py",
   "mimetype": "text/x-python",
   "name": "python",
   "nbconvert_exporter": "python",
   "pygments_lexer": "ipython3",
   "version": "3.6.3"
  }
 },
 "nbformat": 4,
 "nbformat_minor": 1
}
